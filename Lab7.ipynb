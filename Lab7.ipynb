{
  "nbformat": 4,
  "nbformat_minor": 0,
  "metadata": {
    "colab": {
      "name": "Lab7.ipynb",
      "provenance": [],
      "authorship_tag": "ABX9TyMwcpfK0enUN/8WPMBZagY0",
      "include_colab_link": true
    },
    "kernelspec": {
      "name": "python3",
      "display_name": "Python 3"
    },
    "language_info": {
      "name": "python"
    }
  },
  "cells": [
    {
      "cell_type": "markdown",
      "metadata": {
        "id": "view-in-github",
        "colab_type": "text"
      },
      "source": [
        "<a href=\"https://colab.research.google.com/github/lwallac2/Bank-Marketing/blob/main/Lab7.ipynb\" target=\"_parent\"><img src=\"https://colab.research.google.com/assets/colab-badge.svg\" alt=\"Open In Colab\"/></a>"
      ]
    },
    {
      "cell_type": "code",
      "execution_count": 1,
      "metadata": {
        "colab": {
          "base_uri": "https://localhost:8080/",
          "height": 221
        },
        "id": "fvR_aYyXnDPN",
        "outputId": "8b01711e-34bc-4d05-e920-bda1903bff5e"
      },
      "outputs": [
        {
          "output_type": "stream",
          "name": "stdout",
          "text": [
            "Current TensorFlow version is 2.8.0\n"
          ]
        },
        {
          "output_type": "execute_result",
          "data": {
            "text/plain": [
              "   age         workclass  education  educationyears       maritalstatus  \\\n",
              "0   39         State-gov  Bachelors              13       Never-married   \n",
              "1   50  Self-emp-not-inc  Bachelors              13  Married-civ-spouse   \n",
              "2   38           Private    HS-grad               9            Divorced   \n",
              "3   53           Private       11th               7  Married-civ-spouse   \n",
              "4   28           Private  Bachelors              13  Married-civ-spouse   \n",
              "\n",
              "          occupation   relationship   race     sex  hoursperweek  \\\n",
              "0       Adm-clerical  Not-in-family  White    Male            40   \n",
              "1    Exec-managerial        Husband  White    Male            13   \n",
              "2  Handlers-cleaners  Not-in-family  White    Male            40   \n",
              "3  Handlers-cleaners        Husband  Black    Male            40   \n",
              "4     Prof-specialty           Wife  Black  Female            40   \n",
              "\n",
              "   nativecountry  incomeUSD  \n",
              "0  United-States      43747  \n",
              "1  United-States      38907  \n",
              "2  United-States      25055  \n",
              "3  United-States      26733  \n",
              "4           Cuba      23429  "
            ],
            "text/html": [
              "\n",
              "  <div id=\"df-584907d3-bfd8-48e9-8fa1-940deb9c425d\">\n",
              "    <div class=\"colab-df-container\">\n",
              "      <div>\n",
              "<style scoped>\n",
              "    .dataframe tbody tr th:only-of-type {\n",
              "        vertical-align: middle;\n",
              "    }\n",
              "\n",
              "    .dataframe tbody tr th {\n",
              "        vertical-align: top;\n",
              "    }\n",
              "\n",
              "    .dataframe thead th {\n",
              "        text-align: right;\n",
              "    }\n",
              "</style>\n",
              "<table border=\"1\" class=\"dataframe\">\n",
              "  <thead>\n",
              "    <tr style=\"text-align: right;\">\n",
              "      <th></th>\n",
              "      <th>age</th>\n",
              "      <th>workclass</th>\n",
              "      <th>education</th>\n",
              "      <th>educationyears</th>\n",
              "      <th>maritalstatus</th>\n",
              "      <th>occupation</th>\n",
              "      <th>relationship</th>\n",
              "      <th>race</th>\n",
              "      <th>sex</th>\n",
              "      <th>hoursperweek</th>\n",
              "      <th>nativecountry</th>\n",
              "      <th>incomeUSD</th>\n",
              "    </tr>\n",
              "  </thead>\n",
              "  <tbody>\n",
              "    <tr>\n",
              "      <th>0</th>\n",
              "      <td>39</td>\n",
              "      <td>State-gov</td>\n",
              "      <td>Bachelors</td>\n",
              "      <td>13</td>\n",
              "      <td>Never-married</td>\n",
              "      <td>Adm-clerical</td>\n",
              "      <td>Not-in-family</td>\n",
              "      <td>White</td>\n",
              "      <td>Male</td>\n",
              "      <td>40</td>\n",
              "      <td>United-States</td>\n",
              "      <td>43747</td>\n",
              "    </tr>\n",
              "    <tr>\n",
              "      <th>1</th>\n",
              "      <td>50</td>\n",
              "      <td>Self-emp-not-inc</td>\n",
              "      <td>Bachelors</td>\n",
              "      <td>13</td>\n",
              "      <td>Married-civ-spouse</td>\n",
              "      <td>Exec-managerial</td>\n",
              "      <td>Husband</td>\n",
              "      <td>White</td>\n",
              "      <td>Male</td>\n",
              "      <td>13</td>\n",
              "      <td>United-States</td>\n",
              "      <td>38907</td>\n",
              "    </tr>\n",
              "    <tr>\n",
              "      <th>2</th>\n",
              "      <td>38</td>\n",
              "      <td>Private</td>\n",
              "      <td>HS-grad</td>\n",
              "      <td>9</td>\n",
              "      <td>Divorced</td>\n",
              "      <td>Handlers-cleaners</td>\n",
              "      <td>Not-in-family</td>\n",
              "      <td>White</td>\n",
              "      <td>Male</td>\n",
              "      <td>40</td>\n",
              "      <td>United-States</td>\n",
              "      <td>25055</td>\n",
              "    </tr>\n",
              "    <tr>\n",
              "      <th>3</th>\n",
              "      <td>53</td>\n",
              "      <td>Private</td>\n",
              "      <td>11th</td>\n",
              "      <td>7</td>\n",
              "      <td>Married-civ-spouse</td>\n",
              "      <td>Handlers-cleaners</td>\n",
              "      <td>Husband</td>\n",
              "      <td>Black</td>\n",
              "      <td>Male</td>\n",
              "      <td>40</td>\n",
              "      <td>United-States</td>\n",
              "      <td>26733</td>\n",
              "    </tr>\n",
              "    <tr>\n",
              "      <th>4</th>\n",
              "      <td>28</td>\n",
              "      <td>Private</td>\n",
              "      <td>Bachelors</td>\n",
              "      <td>13</td>\n",
              "      <td>Married-civ-spouse</td>\n",
              "      <td>Prof-specialty</td>\n",
              "      <td>Wife</td>\n",
              "      <td>Black</td>\n",
              "      <td>Female</td>\n",
              "      <td>40</td>\n",
              "      <td>Cuba</td>\n",
              "      <td>23429</td>\n",
              "    </tr>\n",
              "  </tbody>\n",
              "</table>\n",
              "</div>\n",
              "      <button class=\"colab-df-convert\" onclick=\"convertToInteractive('df-584907d3-bfd8-48e9-8fa1-940deb9c425d')\"\n",
              "              title=\"Convert this dataframe to an interactive table.\"\n",
              "              style=\"display:none;\">\n",
              "        \n",
              "  <svg xmlns=\"http://www.w3.org/2000/svg\" height=\"24px\"viewBox=\"0 0 24 24\"\n",
              "       width=\"24px\">\n",
              "    <path d=\"M0 0h24v24H0V0z\" fill=\"none\"/>\n",
              "    <path d=\"M18.56 5.44l.94 2.06.94-2.06 2.06-.94-2.06-.94-.94-2.06-.94 2.06-2.06.94zm-11 1L8.5 8.5l.94-2.06 2.06-.94-2.06-.94L8.5 2.5l-.94 2.06-2.06.94zm10 10l.94 2.06.94-2.06 2.06-.94-2.06-.94-.94-2.06-.94 2.06-2.06.94z\"/><path d=\"M17.41 7.96l-1.37-1.37c-.4-.4-.92-.59-1.43-.59-.52 0-1.04.2-1.43.59L10.3 9.45l-7.72 7.72c-.78.78-.78 2.05 0 2.83L4 21.41c.39.39.9.59 1.41.59.51 0 1.02-.2 1.41-.59l7.78-7.78 2.81-2.81c.8-.78.8-2.07 0-2.86zM5.41 20L4 18.59l7.72-7.72 1.47 1.35L5.41 20z\"/>\n",
              "  </svg>\n",
              "      </button>\n",
              "      \n",
              "  <style>\n",
              "    .colab-df-container {\n",
              "      display:flex;\n",
              "      flex-wrap:wrap;\n",
              "      gap: 12px;\n",
              "    }\n",
              "\n",
              "    .colab-df-convert {\n",
              "      background-color: #E8F0FE;\n",
              "      border: none;\n",
              "      border-radius: 50%;\n",
              "      cursor: pointer;\n",
              "      display: none;\n",
              "      fill: #1967D2;\n",
              "      height: 32px;\n",
              "      padding: 0 0 0 0;\n",
              "      width: 32px;\n",
              "    }\n",
              "\n",
              "    .colab-df-convert:hover {\n",
              "      background-color: #E2EBFA;\n",
              "      box-shadow: 0px 1px 2px rgba(60, 64, 67, 0.3), 0px 1px 3px 1px rgba(60, 64, 67, 0.15);\n",
              "      fill: #174EA6;\n",
              "    }\n",
              "\n",
              "    [theme=dark] .colab-df-convert {\n",
              "      background-color: #3B4455;\n",
              "      fill: #D2E3FC;\n",
              "    }\n",
              "\n",
              "    [theme=dark] .colab-df-convert:hover {\n",
              "      background-color: #434B5C;\n",
              "      box-shadow: 0px 1px 3px 1px rgba(0, 0, 0, 0.15);\n",
              "      filter: drop-shadow(0px 1px 2px rgba(0, 0, 0, 0.3));\n",
              "      fill: #FFFFFF;\n",
              "    }\n",
              "  </style>\n",
              "\n",
              "      <script>\n",
              "        const buttonEl =\n",
              "          document.querySelector('#df-584907d3-bfd8-48e9-8fa1-940deb9c425d button.colab-df-convert');\n",
              "        buttonEl.style.display =\n",
              "          google.colab.kernel.accessAllowed ? 'block' : 'none';\n",
              "\n",
              "        async function convertToInteractive(key) {\n",
              "          const element = document.querySelector('#df-584907d3-bfd8-48e9-8fa1-940deb9c425d');\n",
              "          const dataTable =\n",
              "            await google.colab.kernel.invokeFunction('convertToInteractive',\n",
              "                                                     [key], {});\n",
              "          if (!dataTable) return;\n",
              "\n",
              "          const docLinkHtml = 'Like what you see? Visit the ' +\n",
              "            '<a target=\"_blank\" href=https://colab.research.google.com/notebooks/data_table.ipynb>data table notebook</a>'\n",
              "            + ' to learn more about interactive tables.';\n",
              "          element.innerHTML = '';\n",
              "          dataTable['output_type'] = 'display_data';\n",
              "          await google.colab.output.renderOutput(dataTable, element);\n",
              "          const docLink = document.createElement('div');\n",
              "          docLink.innerHTML = docLinkHtml;\n",
              "          element.appendChild(docLink);\n",
              "        }\n",
              "      </script>\n",
              "    </div>\n",
              "  </div>\n",
              "  "
            ]
          },
          "metadata": {},
          "execution_count": 1
        }
      ],
      "source": [
        "import tensorflow as tf # This tells Colab that we are using TensorFlow\n",
        "\n",
        "from tensorflow import keras # This is the main TensorFlow library\n",
        "from tensorflow.keras import layers # We are building a Neural Network with several hidden layers\n",
        "from tensorflow.keras.layers.experimental import preprocessing\n",
        "\n",
        "print(\"Current TensorFlow version is\", tf.__version__)\n",
        "\n",
        "import numpy as np\n",
        "import pandas as pd \n",
        "import matplotlib.pyplot as plt\n",
        "import seaborn as sns # for visualization\n",
        "from sklearn.model_selection import train_test_split\n",
        "from sklearn.metrics import accuracy_score\n",
        "import warnings\n",
        "warnings.filterwarnings(\"ignore\")\n",
        "np.random.seed(42)\n",
        "\n",
        "#Reading in the data as bank dataframe\n",
        "adult = pd.read_csv(\"https://raw.githubusercontent.com/shstreuber/Data-Mining/master/data/adult.data.simplified.csv\", sep=',')\n",
        "\n",
        "#Verifying that we can see the data\n",
        "adult.head()"
      ]
    },
    {
      "cell_type": "markdown",
      "source": [
        "# Question 1"
      ],
      "metadata": {
        "id": "hO8kQZMNyl53"
      }
    },
    {
      "cell_type": "code",
      "source": [
        "adult_dl = pd.DataFrame(adult, columns = ['age', 'educationyears', 'race','hoursperweek','incomeUSD'])\n",
        "adult_dl.head()"
      ],
      "metadata": {
        "colab": {
          "base_uri": "https://localhost:8080/",
          "height": 204
        },
        "id": "JRFMtP64n5R4",
        "outputId": "63155cc5-34cd-432a-8ec5-9bd8ee5598d4"
      },
      "execution_count": 2,
      "outputs": [
        {
          "output_type": "execute_result",
          "data": {
            "text/plain": [
              "   age  educationyears   race  hoursperweek  incomeUSD\n",
              "0   39              13  White            40      43747\n",
              "1   50              13  White            13      38907\n",
              "2   38               9  White            40      25055\n",
              "3   53               7  Black            40      26733\n",
              "4   28              13  Black            40      23429"
            ],
            "text/html": [
              "\n",
              "  <div id=\"df-bb893f0d-a629-4a22-a9db-5e9ac274c811\">\n",
              "    <div class=\"colab-df-container\">\n",
              "      <div>\n",
              "<style scoped>\n",
              "    .dataframe tbody tr th:only-of-type {\n",
              "        vertical-align: middle;\n",
              "    }\n",
              "\n",
              "    .dataframe tbody tr th {\n",
              "        vertical-align: top;\n",
              "    }\n",
              "\n",
              "    .dataframe thead th {\n",
              "        text-align: right;\n",
              "    }\n",
              "</style>\n",
              "<table border=\"1\" class=\"dataframe\">\n",
              "  <thead>\n",
              "    <tr style=\"text-align: right;\">\n",
              "      <th></th>\n",
              "      <th>age</th>\n",
              "      <th>educationyears</th>\n",
              "      <th>race</th>\n",
              "      <th>hoursperweek</th>\n",
              "      <th>incomeUSD</th>\n",
              "    </tr>\n",
              "  </thead>\n",
              "  <tbody>\n",
              "    <tr>\n",
              "      <th>0</th>\n",
              "      <td>39</td>\n",
              "      <td>13</td>\n",
              "      <td>White</td>\n",
              "      <td>40</td>\n",
              "      <td>43747</td>\n",
              "    </tr>\n",
              "    <tr>\n",
              "      <th>1</th>\n",
              "      <td>50</td>\n",
              "      <td>13</td>\n",
              "      <td>White</td>\n",
              "      <td>13</td>\n",
              "      <td>38907</td>\n",
              "    </tr>\n",
              "    <tr>\n",
              "      <th>2</th>\n",
              "      <td>38</td>\n",
              "      <td>9</td>\n",
              "      <td>White</td>\n",
              "      <td>40</td>\n",
              "      <td>25055</td>\n",
              "    </tr>\n",
              "    <tr>\n",
              "      <th>3</th>\n",
              "      <td>53</td>\n",
              "      <td>7</td>\n",
              "      <td>Black</td>\n",
              "      <td>40</td>\n",
              "      <td>26733</td>\n",
              "    </tr>\n",
              "    <tr>\n",
              "      <th>4</th>\n",
              "      <td>28</td>\n",
              "      <td>13</td>\n",
              "      <td>Black</td>\n",
              "      <td>40</td>\n",
              "      <td>23429</td>\n",
              "    </tr>\n",
              "  </tbody>\n",
              "</table>\n",
              "</div>\n",
              "      <button class=\"colab-df-convert\" onclick=\"convertToInteractive('df-bb893f0d-a629-4a22-a9db-5e9ac274c811')\"\n",
              "              title=\"Convert this dataframe to an interactive table.\"\n",
              "              style=\"display:none;\">\n",
              "        \n",
              "  <svg xmlns=\"http://www.w3.org/2000/svg\" height=\"24px\"viewBox=\"0 0 24 24\"\n",
              "       width=\"24px\">\n",
              "    <path d=\"M0 0h24v24H0V0z\" fill=\"none\"/>\n",
              "    <path d=\"M18.56 5.44l.94 2.06.94-2.06 2.06-.94-2.06-.94-.94-2.06-.94 2.06-2.06.94zm-11 1L8.5 8.5l.94-2.06 2.06-.94-2.06-.94L8.5 2.5l-.94 2.06-2.06.94zm10 10l.94 2.06.94-2.06 2.06-.94-2.06-.94-.94-2.06-.94 2.06-2.06.94z\"/><path d=\"M17.41 7.96l-1.37-1.37c-.4-.4-.92-.59-1.43-.59-.52 0-1.04.2-1.43.59L10.3 9.45l-7.72 7.72c-.78.78-.78 2.05 0 2.83L4 21.41c.39.39.9.59 1.41.59.51 0 1.02-.2 1.41-.59l7.78-7.78 2.81-2.81c.8-.78.8-2.07 0-2.86zM5.41 20L4 18.59l7.72-7.72 1.47 1.35L5.41 20z\"/>\n",
              "  </svg>\n",
              "      </button>\n",
              "      \n",
              "  <style>\n",
              "    .colab-df-container {\n",
              "      display:flex;\n",
              "      flex-wrap:wrap;\n",
              "      gap: 12px;\n",
              "    }\n",
              "\n",
              "    .colab-df-convert {\n",
              "      background-color: #E8F0FE;\n",
              "      border: none;\n",
              "      border-radius: 50%;\n",
              "      cursor: pointer;\n",
              "      display: none;\n",
              "      fill: #1967D2;\n",
              "      height: 32px;\n",
              "      padding: 0 0 0 0;\n",
              "      width: 32px;\n",
              "    }\n",
              "\n",
              "    .colab-df-convert:hover {\n",
              "      background-color: #E2EBFA;\n",
              "      box-shadow: 0px 1px 2px rgba(60, 64, 67, 0.3), 0px 1px 3px 1px rgba(60, 64, 67, 0.15);\n",
              "      fill: #174EA6;\n",
              "    }\n",
              "\n",
              "    [theme=dark] .colab-df-convert {\n",
              "      background-color: #3B4455;\n",
              "      fill: #D2E3FC;\n",
              "    }\n",
              "\n",
              "    [theme=dark] .colab-df-convert:hover {\n",
              "      background-color: #434B5C;\n",
              "      box-shadow: 0px 1px 3px 1px rgba(0, 0, 0, 0.15);\n",
              "      filter: drop-shadow(0px 1px 2px rgba(0, 0, 0, 0.3));\n",
              "      fill: #FFFFFF;\n",
              "    }\n",
              "  </style>\n",
              "\n",
              "      <script>\n",
              "        const buttonEl =\n",
              "          document.querySelector('#df-bb893f0d-a629-4a22-a9db-5e9ac274c811 button.colab-df-convert');\n",
              "        buttonEl.style.display =\n",
              "          google.colab.kernel.accessAllowed ? 'block' : 'none';\n",
              "\n",
              "        async function convertToInteractive(key) {\n",
              "          const element = document.querySelector('#df-bb893f0d-a629-4a22-a9db-5e9ac274c811');\n",
              "          const dataTable =\n",
              "            await google.colab.kernel.invokeFunction('convertToInteractive',\n",
              "                                                     [key], {});\n",
              "          if (!dataTable) return;\n",
              "\n",
              "          const docLinkHtml = 'Like what you see? Visit the ' +\n",
              "            '<a target=\"_blank\" href=https://colab.research.google.com/notebooks/data_table.ipynb>data table notebook</a>'\n",
              "            + ' to learn more about interactive tables.';\n",
              "          element.innerHTML = '';\n",
              "          dataTable['output_type'] = 'display_data';\n",
              "          await google.colab.output.renderOutput(dataTable, element);\n",
              "          const docLink = document.createElement('div');\n",
              "          docLink.innerHTML = docLinkHtml;\n",
              "          element.appendChild(docLink);\n",
              "        }\n",
              "      </script>\n",
              "    </div>\n",
              "  </div>\n",
              "  "
            ]
          },
          "metadata": {},
          "execution_count": 2
        }
      ]
    },
    {
      "cell_type": "markdown",
      "source": [
        "# Question 3"
      ],
      "metadata": {
        "id": "zg6R4HhMysnr"
      }
    },
    {
      "cell_type": "code",
      "source": [
        "adult_dl = pd.get_dummies(adult_dl, columns=['race'], prefix='', prefix_sep='')\n",
        "adult_dl.head()"
      ],
      "metadata": {
        "colab": {
          "base_uri": "https://localhost:8080/",
          "height": 204
        },
        "id": "v7I28lA2pKpM",
        "outputId": "12c30ea6-9131-445c-e04e-3a25e39dfb59"
      },
      "execution_count": 3,
      "outputs": [
        {
          "output_type": "execute_result",
          "data": {
            "text/plain": [
              "   age  educationyears  hoursperweek  incomeUSD  Amer-Indian-Eskimo  \\\n",
              "0   39              13            40      43747                   0   \n",
              "1   50              13            13      38907                   0   \n",
              "2   38               9            40      25055                   0   \n",
              "3   53               7            40      26733                   0   \n",
              "4   28              13            40      23429                   0   \n",
              "\n",
              "   Asian-Pac-Islander  Black  Other  White  \n",
              "0                   0      0      0      1  \n",
              "1                   0      0      0      1  \n",
              "2                   0      0      0      1  \n",
              "3                   0      1      0      0  \n",
              "4                   0      1      0      0  "
            ],
            "text/html": [
              "\n",
              "  <div id=\"df-8eba29ba-49e6-43d4-ba44-ae2c14778645\">\n",
              "    <div class=\"colab-df-container\">\n",
              "      <div>\n",
              "<style scoped>\n",
              "    .dataframe tbody tr th:only-of-type {\n",
              "        vertical-align: middle;\n",
              "    }\n",
              "\n",
              "    .dataframe tbody tr th {\n",
              "        vertical-align: top;\n",
              "    }\n",
              "\n",
              "    .dataframe thead th {\n",
              "        text-align: right;\n",
              "    }\n",
              "</style>\n",
              "<table border=\"1\" class=\"dataframe\">\n",
              "  <thead>\n",
              "    <tr style=\"text-align: right;\">\n",
              "      <th></th>\n",
              "      <th>age</th>\n",
              "      <th>educationyears</th>\n",
              "      <th>hoursperweek</th>\n",
              "      <th>incomeUSD</th>\n",
              "      <th>Amer-Indian-Eskimo</th>\n",
              "      <th>Asian-Pac-Islander</th>\n",
              "      <th>Black</th>\n",
              "      <th>Other</th>\n",
              "      <th>White</th>\n",
              "    </tr>\n",
              "  </thead>\n",
              "  <tbody>\n",
              "    <tr>\n",
              "      <th>0</th>\n",
              "      <td>39</td>\n",
              "      <td>13</td>\n",
              "      <td>40</td>\n",
              "      <td>43747</td>\n",
              "      <td>0</td>\n",
              "      <td>0</td>\n",
              "      <td>0</td>\n",
              "      <td>0</td>\n",
              "      <td>1</td>\n",
              "    </tr>\n",
              "    <tr>\n",
              "      <th>1</th>\n",
              "      <td>50</td>\n",
              "      <td>13</td>\n",
              "      <td>13</td>\n",
              "      <td>38907</td>\n",
              "      <td>0</td>\n",
              "      <td>0</td>\n",
              "      <td>0</td>\n",
              "      <td>0</td>\n",
              "      <td>1</td>\n",
              "    </tr>\n",
              "    <tr>\n",
              "      <th>2</th>\n",
              "      <td>38</td>\n",
              "      <td>9</td>\n",
              "      <td>40</td>\n",
              "      <td>25055</td>\n",
              "      <td>0</td>\n",
              "      <td>0</td>\n",
              "      <td>0</td>\n",
              "      <td>0</td>\n",
              "      <td>1</td>\n",
              "    </tr>\n",
              "    <tr>\n",
              "      <th>3</th>\n",
              "      <td>53</td>\n",
              "      <td>7</td>\n",
              "      <td>40</td>\n",
              "      <td>26733</td>\n",
              "      <td>0</td>\n",
              "      <td>0</td>\n",
              "      <td>1</td>\n",
              "      <td>0</td>\n",
              "      <td>0</td>\n",
              "    </tr>\n",
              "    <tr>\n",
              "      <th>4</th>\n",
              "      <td>28</td>\n",
              "      <td>13</td>\n",
              "      <td>40</td>\n",
              "      <td>23429</td>\n",
              "      <td>0</td>\n",
              "      <td>0</td>\n",
              "      <td>1</td>\n",
              "      <td>0</td>\n",
              "      <td>0</td>\n",
              "    </tr>\n",
              "  </tbody>\n",
              "</table>\n",
              "</div>\n",
              "      <button class=\"colab-df-convert\" onclick=\"convertToInteractive('df-8eba29ba-49e6-43d4-ba44-ae2c14778645')\"\n",
              "              title=\"Convert this dataframe to an interactive table.\"\n",
              "              style=\"display:none;\">\n",
              "        \n",
              "  <svg xmlns=\"http://www.w3.org/2000/svg\" height=\"24px\"viewBox=\"0 0 24 24\"\n",
              "       width=\"24px\">\n",
              "    <path d=\"M0 0h24v24H0V0z\" fill=\"none\"/>\n",
              "    <path d=\"M18.56 5.44l.94 2.06.94-2.06 2.06-.94-2.06-.94-.94-2.06-.94 2.06-2.06.94zm-11 1L8.5 8.5l.94-2.06 2.06-.94-2.06-.94L8.5 2.5l-.94 2.06-2.06.94zm10 10l.94 2.06.94-2.06 2.06-.94-2.06-.94-.94-2.06-.94 2.06-2.06.94z\"/><path d=\"M17.41 7.96l-1.37-1.37c-.4-.4-.92-.59-1.43-.59-.52 0-1.04.2-1.43.59L10.3 9.45l-7.72 7.72c-.78.78-.78 2.05 0 2.83L4 21.41c.39.39.9.59 1.41.59.51 0 1.02-.2 1.41-.59l7.78-7.78 2.81-2.81c.8-.78.8-2.07 0-2.86zM5.41 20L4 18.59l7.72-7.72 1.47 1.35L5.41 20z\"/>\n",
              "  </svg>\n",
              "      </button>\n",
              "      \n",
              "  <style>\n",
              "    .colab-df-container {\n",
              "      display:flex;\n",
              "      flex-wrap:wrap;\n",
              "      gap: 12px;\n",
              "    }\n",
              "\n",
              "    .colab-df-convert {\n",
              "      background-color: #E8F0FE;\n",
              "      border: none;\n",
              "      border-radius: 50%;\n",
              "      cursor: pointer;\n",
              "      display: none;\n",
              "      fill: #1967D2;\n",
              "      height: 32px;\n",
              "      padding: 0 0 0 0;\n",
              "      width: 32px;\n",
              "    }\n",
              "\n",
              "    .colab-df-convert:hover {\n",
              "      background-color: #E2EBFA;\n",
              "      box-shadow: 0px 1px 2px rgba(60, 64, 67, 0.3), 0px 1px 3px 1px rgba(60, 64, 67, 0.15);\n",
              "      fill: #174EA6;\n",
              "    }\n",
              "\n",
              "    [theme=dark] .colab-df-convert {\n",
              "      background-color: #3B4455;\n",
              "      fill: #D2E3FC;\n",
              "    }\n",
              "\n",
              "    [theme=dark] .colab-df-convert:hover {\n",
              "      background-color: #434B5C;\n",
              "      box-shadow: 0px 1px 3px 1px rgba(0, 0, 0, 0.15);\n",
              "      filter: drop-shadow(0px 1px 2px rgba(0, 0, 0, 0.3));\n",
              "      fill: #FFFFFF;\n",
              "    }\n",
              "  </style>\n",
              "\n",
              "      <script>\n",
              "        const buttonEl =\n",
              "          document.querySelector('#df-8eba29ba-49e6-43d4-ba44-ae2c14778645 button.colab-df-convert');\n",
              "        buttonEl.style.display =\n",
              "          google.colab.kernel.accessAllowed ? 'block' : 'none';\n",
              "\n",
              "        async function convertToInteractive(key) {\n",
              "          const element = document.querySelector('#df-8eba29ba-49e6-43d4-ba44-ae2c14778645');\n",
              "          const dataTable =\n",
              "            await google.colab.kernel.invokeFunction('convertToInteractive',\n",
              "                                                     [key], {});\n",
              "          if (!dataTable) return;\n",
              "\n",
              "          const docLinkHtml = 'Like what you see? Visit the ' +\n",
              "            '<a target=\"_blank\" href=https://colab.research.google.com/notebooks/data_table.ipynb>data table notebook</a>'\n",
              "            + ' to learn more about interactive tables.';\n",
              "          element.innerHTML = '';\n",
              "          dataTable['output_type'] = 'display_data';\n",
              "          await google.colab.output.renderOutput(dataTable, element);\n",
              "          const docLink = document.createElement('div');\n",
              "          docLink.innerHTML = docLinkHtml;\n",
              "          element.appendChild(docLink);\n",
              "        }\n",
              "      </script>\n",
              "    </div>\n",
              "  </div>\n",
              "  "
            ]
          },
          "metadata": {},
          "execution_count": 3
        }
      ]
    },
    {
      "cell_type": "markdown",
      "source": [
        "# Question 2"
      ],
      "metadata": {
        "id": "4sDY6ezJypX5"
      }
    },
    {
      "cell_type": "code",
      "source": [
        "train_dataset = adult_dl.sample(frac=0.8, random_state=0)\n",
        "test_dataset = adult_dl.drop(train_dataset.index)"
      ],
      "metadata": {
        "id": "FEnysTfupeKx"
      },
      "execution_count": 4,
      "outputs": []
    },
    {
      "cell_type": "code",
      "source": [
        "train_features = adult_dl.copy()\n",
        "test_features = test_dataset.copy()\n",
        "\n",
        "train_labels = train_features.pop('educationyears')\n",
        "test_labels = test_features.pop('educationyears')"
      ],
      "metadata": {
        "id": "6GUi6cotpnb4"
      },
      "execution_count": 5,
      "outputs": []
    },
    {
      "cell_type": "code",
      "source": [
        "normalizer = preprocessing.Normalization(axis=-1)"
      ],
      "metadata": {
        "id": "Ye4ZcXgww510"
      },
      "execution_count": 7,
      "outputs": []
    },
    {
      "cell_type": "code",
      "source": [
        "normalizer.adapt(np.array(train_features))\n"
      ],
      "metadata": {
        "id": "JaKh1W5Tw8s-"
      },
      "execution_count": 8,
      "outputs": []
    },
    {
      "cell_type": "code",
      "source": [
        "print(normalizer.mean.numpy())"
      ],
      "metadata": {
        "colab": {
          "base_uri": "https://localhost:8080/"
        },
        "id": "sIGXod52w_qL",
        "outputId": "4e12a648-5190-42ac-fe06-c8b4864431a7"
      },
      "execution_count": 9,
      "outputs": [
        {
          "output_type": "stream",
          "name": "stdout",
          "text": [
            "[[3.8581665e+01 4.0437420e+01 5.6583895e+04 9.5512960e-03 3.1909321e-02\n",
            "  9.5943078e-02 8.3228461e-03 8.5427368e-01]]\n"
          ]
        }
      ]
    },
    {
      "cell_type": "code",
      "source": [
        "first = np.array(train_features[:1])\n",
        "\n",
        "with np.printoptions(precision=2, suppress=True):\n",
        "  print('Original data:', first)\n",
        "  print()\n",
        "  print('Normalized data:', normalizer(first).numpy())"
      ],
      "metadata": {
        "colab": {
          "base_uri": "https://localhost:8080/"
        },
        "id": "zHx7RNWWxCxd",
        "outputId": "c930b8c8-d361-41da-a089-20a5e2d1e25f"
      },
      "execution_count": 10,
      "outputs": [
        {
          "output_type": "stream",
          "name": "stdout",
          "text": [
            "Original data: [[   39    40 43747     0     0     0     0     1]]\n",
            "\n",
            "Normalized data: [[ 0.03 -0.04 -0.29 -0.1  -0.18 -0.33 -0.09  0.41]]\n"
          ]
        }
      ]
    },
    {
      "cell_type": "code",
      "source": [
        "# First, we build the normalization layer:\n",
        "age_new = np.array(train_features['age'])\n",
        "\n",
        "age_normalizer = preprocessing.Normalization(input_shape=[1,], axis=None)\n",
        "age_normalizer.adapt(age_new)"
      ],
      "metadata": {
        "id": "DivisGLmx6Zq"
      },
      "execution_count": 11,
      "outputs": []
    },
    {
      "cell_type": "markdown",
      "source": [
        "# Question 4"
      ],
      "metadata": {
        "id": "dGFaGu4v5ZZ9"
      }
    },
    {
      "cell_type": "code",
      "source": [
        "def build_and_compile_model(norm):\n",
        "  model = keras.Sequential([                 # Here you are setting up the keras.Sequential architecture\n",
        "      norm,                                  # This is the normalizer function we built before\n",
        "      layers.Dense(64, activation='relu'),   # Here is the first hidden layer--64 nodes, built with the relu function\n",
        "      layers.Dense(64, activation='relu'),   # Here is the second hidden layer, also built with the relu function\n",
        "      layers.Dense(1)                        # Here is the Dense layer for a single output because we are working on a REGRESSION\n",
        "  ])                                         # AND WE'RE DONE WITH BUILDING THE MODEL!\n",
        "\n",
        "  model.compile(loss='mean_absolute_error',   # Now we configure the runtime for our model; the loss function is mean absolute error--makes sense for a regression!\n",
        "                optimizer=tf.keras.optimizers.Adam(0.001))\n",
        "  return model"
      ],
      "metadata": {
        "id": "Sfrcdf01qXoj"
      },
      "execution_count": 12,
      "outputs": []
    },
    {
      "cell_type": "code",
      "source": [
        "dnn_age_model = build_and_compile_model(age_normalizer)"
      ],
      "metadata": {
        "id": "d_o8sxMtyDOR"
      },
      "execution_count": 13,
      "outputs": []
    },
    {
      "cell_type": "code",
      "source": [
        "dnn_age_model.summary()"
      ],
      "metadata": {
        "colab": {
          "base_uri": "https://localhost:8080/"
        },
        "id": "C-s73k5GyDC1",
        "outputId": "de94e027-92f4-4138-9744-5df459b8deff"
      },
      "execution_count": 14,
      "outputs": [
        {
          "output_type": "stream",
          "name": "stdout",
          "text": [
            "Model: \"sequential\"\n",
            "_________________________________________________________________\n",
            " Layer (type)                Output Shape              Param #   \n",
            "=================================================================\n",
            " normalization_2 (Normalizat  (None, 1)                3         \n",
            " ion)                                                            \n",
            "                                                                 \n",
            " dense (Dense)               (None, 64)                128       \n",
            "                                                                 \n",
            " dense_1 (Dense)             (None, 64)                4160      \n",
            "                                                                 \n",
            " dense_2 (Dense)             (None, 1)                 65        \n",
            "                                                                 \n",
            "=================================================================\n",
            "Total params: 4,356\n",
            "Trainable params: 4,353\n",
            "Non-trainable params: 3\n",
            "_________________________________________________________________\n"
          ]
        }
      ]
    },
    {
      "cell_type": "markdown",
      "source": [
        "# Question 5 "
      ],
      "metadata": {
        "id": "wXaLS7oKz8Wt"
      }
    },
    {
      "cell_type": "code",
      "source": [
        "%%time\n",
        "history = dnn_age_model.fit(\n",
        "    train_features['age'], train_labels,\n",
        "    validation_split=0.2,\n",
        "    verbose=1, epochs=32)"
      ],
      "metadata": {
        "colab": {
          "base_uri": "https://localhost:8080/"
        },
        "id": "W64Pb5_vqg9K",
        "outputId": "81fabec9-91f3-4414-994b-a9f26b9e7f80"
      },
      "execution_count": 15,
      "outputs": [
        {
          "output_type": "stream",
          "name": "stdout",
          "text": [
            "Epoch 1/32\n",
            "814/814 [==============================] - 3s 2ms/step - loss: 2.5797 - val_loss: 1.9025\n",
            "Epoch 2/32\n",
            "814/814 [==============================] - 2s 2ms/step - loss: 1.8762 - val_loss: 1.8969\n",
            "Epoch 3/32\n",
            "814/814 [==============================] - 2s 2ms/step - loss: 1.8727 - val_loss: 1.9019\n",
            "Epoch 4/32\n",
            "814/814 [==============================] - 2s 2ms/step - loss: 1.8740 - val_loss: 1.8978\n",
            "Epoch 5/32\n",
            "814/814 [==============================] - 2s 2ms/step - loss: 1.8750 - val_loss: 1.8985\n",
            "Epoch 6/32\n",
            "814/814 [==============================] - 2s 2ms/step - loss: 1.8732 - val_loss: 1.8942\n",
            "Epoch 7/32\n",
            "814/814 [==============================] - 2s 2ms/step - loss: 1.8712 - val_loss: 1.9045\n",
            "Epoch 8/32\n",
            "814/814 [==============================] - 2s 2ms/step - loss: 1.8721 - val_loss: 1.9211\n",
            "Epoch 9/32\n",
            "814/814 [==============================] - 2s 2ms/step - loss: 1.8722 - val_loss: 1.8963\n",
            "Epoch 10/32\n",
            "814/814 [==============================] - 2s 2ms/step - loss: 1.8681 - val_loss: 1.8899\n",
            "Epoch 11/32\n",
            "814/814 [==============================] - 2s 2ms/step - loss: 1.8628 - val_loss: 1.8809\n",
            "Epoch 12/32\n",
            "814/814 [==============================] - 2s 2ms/step - loss: 1.8588 - val_loss: 1.8858\n",
            "Epoch 13/32\n",
            "814/814 [==============================] - 2s 2ms/step - loss: 1.8596 - val_loss: 1.8996\n",
            "Epoch 14/32\n",
            "814/814 [==============================] - 2s 2ms/step - loss: 1.8538 - val_loss: 1.8709\n",
            "Epoch 15/32\n",
            "814/814 [==============================] - 2s 2ms/step - loss: 1.8557 - val_loss: 1.8889\n",
            "Epoch 16/32\n",
            "814/814 [==============================] - 2s 2ms/step - loss: 1.8485 - val_loss: 1.8704\n",
            "Epoch 17/32\n",
            "814/814 [==============================] - 2s 2ms/step - loss: 1.8468 - val_loss: 1.8828\n",
            "Epoch 18/32\n",
            "814/814 [==============================] - 2s 2ms/step - loss: 1.8466 - val_loss: 1.8692\n",
            "Epoch 19/32\n",
            "814/814 [==============================] - 2s 2ms/step - loss: 1.8415 - val_loss: 1.8606\n",
            "Epoch 20/32\n",
            "814/814 [==============================] - 2s 2ms/step - loss: 1.8435 - val_loss: 1.8606\n",
            "Epoch 21/32\n",
            "814/814 [==============================] - 2s 2ms/step - loss: 1.8371 - val_loss: 1.8630\n",
            "Epoch 22/32\n",
            "814/814 [==============================] - 2s 2ms/step - loss: 1.8362 - val_loss: 1.8873\n",
            "Epoch 23/32\n",
            "814/814 [==============================] - 2s 2ms/step - loss: 1.8373 - val_loss: 1.8458\n",
            "Epoch 24/32\n",
            "814/814 [==============================] - 2s 2ms/step - loss: 1.8325 - val_loss: 1.8632\n",
            "Epoch 25/32\n",
            "814/814 [==============================] - 2s 2ms/step - loss: 1.8326 - val_loss: 1.8655\n",
            "Epoch 26/32\n",
            "814/814 [==============================] - 2s 2ms/step - loss: 1.8345 - val_loss: 1.8445\n",
            "Epoch 27/32\n",
            "814/814 [==============================] - 2s 2ms/step - loss: 1.8323 - val_loss: 1.8764\n",
            "Epoch 28/32\n",
            "814/814 [==============================] - 2s 2ms/step - loss: 1.8340 - val_loss: 1.8721\n",
            "Epoch 29/32\n",
            "814/814 [==============================] - 2s 2ms/step - loss: 1.8386 - val_loss: 1.8491\n",
            "Epoch 30/32\n",
            "814/814 [==============================] - 2s 2ms/step - loss: 1.8350 - val_loss: 1.8490\n",
            "Epoch 31/32\n",
            "814/814 [==============================] - 2s 2ms/step - loss: 1.8335 - val_loss: 1.8639\n",
            "Epoch 32/32\n",
            "814/814 [==============================] - 2s 2ms/step - loss: 1.8340 - val_loss: 1.8473\n",
            "CPU times: user 1min 1s, sys: 4.58 s, total: 1min 6s\n",
            "Wall time: 57.7 s\n"
          ]
        }
      ]
    },
    {
      "cell_type": "code",
      "source": [
        "%%time\n",
        "history = dnn_age_model.fit(\n",
        "    train_features['age'], train_labels,\n",
        "    validation_split=0.2,\n",
        "    verbose=1, epochs=100)"
      ],
      "metadata": {
        "colab": {
          "base_uri": "https://localhost:8080/"
        },
        "id": "oDpBMsREquOB",
        "outputId": "2a9e97f0-df82-402d-eaaf-98ac97c058d5"
      },
      "execution_count": 16,
      "outputs": [
        {
          "output_type": "stream",
          "name": "stdout",
          "text": [
            "Epoch 1/100\n",
            "814/814 [==============================] - 2s 2ms/step - loss: 1.8352 - val_loss: 1.8502\n",
            "Epoch 2/100\n",
            "814/814 [==============================] - 2s 2ms/step - loss: 1.8333 - val_loss: 1.8505\n",
            "Epoch 3/100\n",
            "814/814 [==============================] - 2s 2ms/step - loss: 1.8319 - val_loss: 1.8781\n",
            "Epoch 4/100\n",
            "814/814 [==============================] - 2s 2ms/step - loss: 1.8346 - val_loss: 1.8612\n",
            "Epoch 5/100\n",
            "814/814 [==============================] - 2s 2ms/step - loss: 1.8337 - val_loss: 1.8494\n",
            "Epoch 6/100\n",
            "814/814 [==============================] - 2s 2ms/step - loss: 1.8300 - val_loss: 1.8633\n",
            "Epoch 7/100\n",
            "814/814 [==============================] - 2s 2ms/step - loss: 1.8321 - val_loss: 1.8615\n",
            "Epoch 8/100\n",
            "814/814 [==============================] - 2s 2ms/step - loss: 1.8328 - val_loss: 1.8486\n",
            "Epoch 9/100\n",
            "814/814 [==============================] - 2s 2ms/step - loss: 1.8330 - val_loss: 1.8654\n",
            "Epoch 10/100\n",
            "814/814 [==============================] - 2s 2ms/step - loss: 1.8315 - val_loss: 1.8617\n",
            "Epoch 11/100\n",
            "814/814 [==============================] - 2s 2ms/step - loss: 1.8338 - val_loss: 1.8534\n",
            "Epoch 12/100\n",
            "814/814 [==============================] - 2s 2ms/step - loss: 1.8326 - val_loss: 1.8876\n",
            "Epoch 13/100\n",
            "814/814 [==============================] - 2s 2ms/step - loss: 1.8316 - val_loss: 1.8469\n",
            "Epoch 14/100\n",
            "814/814 [==============================] - 2s 2ms/step - loss: 1.8316 - val_loss: 1.8470\n",
            "Epoch 15/100\n",
            "814/814 [==============================] - 2s 2ms/step - loss: 1.8333 - val_loss: 1.8694\n",
            "Epoch 16/100\n",
            "814/814 [==============================] - 2s 2ms/step - loss: 1.8348 - val_loss: 1.8750\n",
            "Epoch 17/100\n",
            "814/814 [==============================] - 2s 2ms/step - loss: 1.8311 - val_loss: 1.8563\n",
            "Epoch 18/100\n",
            "814/814 [==============================] - 2s 2ms/step - loss: 1.8348 - val_loss: 1.8784\n",
            "Epoch 19/100\n",
            "814/814 [==============================] - 2s 2ms/step - loss: 1.8326 - val_loss: 1.8520\n",
            "Epoch 20/100\n",
            "814/814 [==============================] - 2s 2ms/step - loss: 1.8310 - val_loss: 1.8454\n",
            "Epoch 21/100\n",
            "814/814 [==============================] - 2s 2ms/step - loss: 1.8331 - val_loss: 1.8589\n",
            "Epoch 22/100\n",
            "814/814 [==============================] - 2s 2ms/step - loss: 1.8311 - val_loss: 1.8647\n",
            "Epoch 23/100\n",
            "814/814 [==============================] - 2s 2ms/step - loss: 1.8306 - val_loss: 1.8503\n",
            "Epoch 24/100\n",
            "814/814 [==============================] - 2s 2ms/step - loss: 1.8310 - val_loss: 1.8496\n",
            "Epoch 25/100\n",
            "814/814 [==============================] - 2s 2ms/step - loss: 1.8304 - val_loss: 1.8635\n",
            "Epoch 26/100\n",
            "814/814 [==============================] - 2s 2ms/step - loss: 1.8333 - val_loss: 1.8449\n",
            "Epoch 27/100\n",
            "814/814 [==============================] - 2s 2ms/step - loss: 1.8289 - val_loss: 1.8540\n",
            "Epoch 28/100\n",
            "814/814 [==============================] - 2s 2ms/step - loss: 1.8309 - val_loss: 1.8482\n",
            "Epoch 29/100\n",
            "814/814 [==============================] - 2s 2ms/step - loss: 1.8279 - val_loss: 1.8534\n",
            "Epoch 30/100\n",
            "814/814 [==============================] - 2s 2ms/step - loss: 1.8310 - val_loss: 1.8636\n",
            "Epoch 31/100\n",
            "814/814 [==============================] - 2s 2ms/step - loss: 1.8293 - val_loss: 1.8483\n",
            "Epoch 32/100\n",
            "814/814 [==============================] - 2s 2ms/step - loss: 1.8280 - val_loss: 1.8569\n",
            "Epoch 33/100\n",
            "814/814 [==============================] - 2s 2ms/step - loss: 1.8323 - val_loss: 1.8510\n",
            "Epoch 34/100\n",
            "814/814 [==============================] - 2s 2ms/step - loss: 1.8273 - val_loss: 1.8582\n",
            "Epoch 35/100\n",
            "814/814 [==============================] - 2s 2ms/step - loss: 1.8305 - val_loss: 1.8483\n",
            "Epoch 36/100\n",
            "814/814 [==============================] - 2s 2ms/step - loss: 1.8305 - val_loss: 1.8500\n",
            "Epoch 37/100\n",
            "814/814 [==============================] - 2s 2ms/step - loss: 1.8289 - val_loss: 1.8771\n",
            "Epoch 38/100\n",
            "814/814 [==============================] - 2s 2ms/step - loss: 1.8318 - val_loss: 1.8492\n",
            "Epoch 39/100\n",
            "814/814 [==============================] - 2s 2ms/step - loss: 1.8311 - val_loss: 1.8680\n",
            "Epoch 40/100\n",
            "814/814 [==============================] - 2s 2ms/step - loss: 1.8301 - val_loss: 1.8516\n",
            "Epoch 41/100\n",
            "814/814 [==============================] - 2s 2ms/step - loss: 1.8301 - val_loss: 1.8498\n",
            "Epoch 42/100\n",
            "814/814 [==============================] - 2s 2ms/step - loss: 1.8278 - val_loss: 1.8452\n",
            "Epoch 43/100\n",
            "814/814 [==============================] - 2s 2ms/step - loss: 1.8276 - val_loss: 1.8465\n",
            "Epoch 44/100\n",
            "814/814 [==============================] - 2s 2ms/step - loss: 1.8303 - val_loss: 1.8659\n",
            "Epoch 45/100\n",
            "814/814 [==============================] - 2s 2ms/step - loss: 1.8282 - val_loss: 1.8542\n",
            "Epoch 46/100\n",
            "814/814 [==============================] - 2s 2ms/step - loss: 1.8293 - val_loss: 1.8550\n",
            "Epoch 47/100\n",
            "814/814 [==============================] - 2s 2ms/step - loss: 1.8286 - val_loss: 1.8478\n",
            "Epoch 48/100\n",
            "814/814 [==============================] - 2s 2ms/step - loss: 1.8281 - val_loss: 1.8457\n",
            "Epoch 49/100\n",
            "814/814 [==============================] - 2s 2ms/step - loss: 1.8278 - val_loss: 1.8518\n",
            "Epoch 50/100\n",
            "814/814 [==============================] - 2s 2ms/step - loss: 1.8295 - val_loss: 1.8571\n",
            "Epoch 51/100\n",
            "814/814 [==============================] - 2s 2ms/step - loss: 1.8299 - val_loss: 1.8446\n",
            "Epoch 52/100\n",
            "814/814 [==============================] - 2s 2ms/step - loss: 1.8298 - val_loss: 1.8562\n",
            "Epoch 53/100\n",
            "814/814 [==============================] - 2s 2ms/step - loss: 1.8312 - val_loss: 1.8478\n",
            "Epoch 54/100\n",
            "814/814 [==============================] - 2s 2ms/step - loss: 1.8297 - val_loss: 1.8519\n",
            "Epoch 55/100\n",
            "814/814 [==============================] - 2s 2ms/step - loss: 1.8296 - val_loss: 1.8470\n",
            "Epoch 56/100\n",
            "814/814 [==============================] - 2s 2ms/step - loss: 1.8289 - val_loss: 1.8456\n",
            "Epoch 57/100\n",
            "814/814 [==============================] - 2s 2ms/step - loss: 1.8310 - val_loss: 1.8695\n",
            "Epoch 58/100\n",
            "814/814 [==============================] - 2s 2ms/step - loss: 1.8305 - val_loss: 1.8440\n",
            "Epoch 59/100\n",
            "814/814 [==============================] - 2s 2ms/step - loss: 1.8274 - val_loss: 1.8459\n",
            "Epoch 60/100\n",
            "814/814 [==============================] - 2s 2ms/step - loss: 1.8296 - val_loss: 1.8683\n",
            "Epoch 61/100\n",
            "814/814 [==============================] - 2s 2ms/step - loss: 1.8280 - val_loss: 1.8528\n",
            "Epoch 62/100\n",
            "814/814 [==============================] - 2s 2ms/step - loss: 1.8290 - val_loss: 1.8514\n",
            "Epoch 63/100\n",
            "814/814 [==============================] - 2s 2ms/step - loss: 1.8276 - val_loss: 1.8495\n",
            "Epoch 64/100\n",
            "814/814 [==============================] - 2s 2ms/step - loss: 1.8277 - val_loss: 1.8464\n",
            "Epoch 65/100\n",
            "814/814 [==============================] - 2s 2ms/step - loss: 1.8285 - val_loss: 1.8488\n",
            "Epoch 66/100\n",
            "814/814 [==============================] - 2s 2ms/step - loss: 1.8275 - val_loss: 1.8635\n",
            "Epoch 67/100\n",
            "814/814 [==============================] - 2s 2ms/step - loss: 1.8276 - val_loss: 1.8597\n",
            "Epoch 68/100\n",
            "814/814 [==============================] - 2s 2ms/step - loss: 1.8294 - val_loss: 1.8599\n",
            "Epoch 69/100\n",
            "814/814 [==============================] - 2s 2ms/step - loss: 1.8301 - val_loss: 1.8441\n",
            "Epoch 70/100\n",
            "814/814 [==============================] - 2s 2ms/step - loss: 1.8296 - val_loss: 1.8493\n",
            "Epoch 71/100\n",
            "814/814 [==============================] - 2s 2ms/step - loss: 1.8279 - val_loss: 1.8511\n",
            "Epoch 72/100\n",
            "814/814 [==============================] - 2s 2ms/step - loss: 1.8282 - val_loss: 1.8485\n",
            "Epoch 73/100\n",
            "814/814 [==============================] - 2s 2ms/step - loss: 1.8284 - val_loss: 1.8566\n",
            "Epoch 74/100\n",
            "814/814 [==============================] - 2s 2ms/step - loss: 1.8283 - val_loss: 1.8483\n",
            "Epoch 75/100\n",
            "814/814 [==============================] - 2s 2ms/step - loss: 1.8293 - val_loss: 1.8522\n",
            "Epoch 76/100\n",
            "814/814 [==============================] - 2s 2ms/step - loss: 1.8287 - val_loss: 1.8520\n",
            "Epoch 77/100\n",
            "814/814 [==============================] - 2s 2ms/step - loss: 1.8280 - val_loss: 1.8576\n",
            "Epoch 78/100\n",
            "814/814 [==============================] - 2s 2ms/step - loss: 1.8299 - val_loss: 1.8550\n",
            "Epoch 79/100\n",
            "814/814 [==============================] - 2s 2ms/step - loss: 1.8294 - val_loss: 1.8634\n",
            "Epoch 80/100\n",
            "814/814 [==============================] - 2s 2ms/step - loss: 1.8277 - val_loss: 1.8445\n",
            "Epoch 81/100\n",
            "814/814 [==============================] - 2s 2ms/step - loss: 1.8276 - val_loss: 1.8496\n",
            "Epoch 82/100\n",
            "814/814 [==============================] - 2s 2ms/step - loss: 1.8277 - val_loss: 1.8488\n",
            "Epoch 83/100\n",
            "814/814 [==============================] - 2s 2ms/step - loss: 1.8268 - val_loss: 1.8474\n",
            "Epoch 84/100\n",
            "814/814 [==============================] - 2s 2ms/step - loss: 1.8287 - val_loss: 1.8620\n",
            "Epoch 85/100\n",
            "814/814 [==============================] - 2s 2ms/step - loss: 1.8289 - val_loss: 1.8468\n",
            "Epoch 86/100\n",
            "814/814 [==============================] - 2s 2ms/step - loss: 1.8278 - val_loss: 1.8567\n",
            "Epoch 87/100\n",
            "814/814 [==============================] - 2s 2ms/step - loss: 1.8270 - val_loss: 1.8470\n",
            "Epoch 88/100\n",
            "814/814 [==============================] - 2s 2ms/step - loss: 1.8259 - val_loss: 1.8487\n",
            "Epoch 89/100\n",
            "814/814 [==============================] - 2s 2ms/step - loss: 1.8281 - val_loss: 1.8474\n",
            "Epoch 90/100\n",
            "814/814 [==============================] - 2s 2ms/step - loss: 1.8277 - val_loss: 1.8449\n",
            "Epoch 91/100\n",
            "814/814 [==============================] - 2s 2ms/step - loss: 1.8255 - val_loss: 1.8435\n",
            "Epoch 92/100\n",
            "814/814 [==============================] - 2s 2ms/step - loss: 1.8274 - val_loss: 1.8464\n",
            "Epoch 93/100\n",
            "814/814 [==============================] - 2s 2ms/step - loss: 1.8293 - val_loss: 1.8686\n",
            "Epoch 94/100\n",
            "814/814 [==============================] - 2s 2ms/step - loss: 1.8301 - val_loss: 1.8622\n",
            "Epoch 95/100\n",
            "814/814 [==============================] - 2s 2ms/step - loss: 1.8276 - val_loss: 1.8471\n",
            "Epoch 96/100\n",
            "814/814 [==============================] - 2s 2ms/step - loss: 1.8261 - val_loss: 1.8473\n",
            "Epoch 97/100\n",
            "814/814 [==============================] - 2s 2ms/step - loss: 1.8262 - val_loss: 1.8540\n",
            "Epoch 98/100\n",
            "814/814 [==============================] - 2s 2ms/step - loss: 1.8259 - val_loss: 1.8486\n",
            "Epoch 99/100\n",
            "814/814 [==============================] - 2s 2ms/step - loss: 1.8261 - val_loss: 1.8489\n",
            "Epoch 100/100\n",
            "814/814 [==============================] - 2s 2ms/step - loss: 1.8270 - val_loss: 1.8491\n",
            "CPU times: user 3min 15s, sys: 14.3 s, total: 3min 29s\n",
            "Wall time: 3min 3s\n"
          ]
        }
      ]
    },
    {
      "cell_type": "markdown",
      "source": [
        "# Question 6"
      ],
      "metadata": {
        "id": "o_GUD13d0PS8"
      }
    },
    {
      "cell_type": "code",
      "source": [
        "# First, we build the normalization layer:\n",
        "income_new = np.array(train_features['incomeUSD'])\n",
        "\n",
        "income_normalizer = preprocessing.Normalization(input_shape=[1,], axis=None)\n",
        "income_normalizer.adapt(income_new)"
      ],
      "metadata": {
        "id": "HZr0l-mx115D"
      },
      "execution_count": 17,
      "outputs": []
    },
    {
      "cell_type": "code",
      "source": [
        "dnn_income_model = build_and_compile_model(income_normalizer)"
      ],
      "metadata": {
        "id": "fy2TWtKu0UiF"
      },
      "execution_count": 18,
      "outputs": []
    },
    {
      "cell_type": "code",
      "source": [
        "dnn_income_model.summary()"
      ],
      "metadata": {
        "colab": {
          "base_uri": "https://localhost:8080/"
        },
        "id": "6ayWY-D71WPv",
        "outputId": "cfc29b2d-3ac2-4fe4-e61e-380a53954544"
      },
      "execution_count": 19,
      "outputs": [
        {
          "output_type": "stream",
          "name": "stdout",
          "text": [
            "Model: \"sequential_1\"\n",
            "_________________________________________________________________\n",
            " Layer (type)                Output Shape              Param #   \n",
            "=================================================================\n",
            " normalization_3 (Normalizat  (None, 1)                3         \n",
            " ion)                                                            \n",
            "                                                                 \n",
            " dense_3 (Dense)             (None, 64)                128       \n",
            "                                                                 \n",
            " dense_4 (Dense)             (None, 64)                4160      \n",
            "                                                                 \n",
            " dense_5 (Dense)             (None, 1)                 65        \n",
            "                                                                 \n",
            "=================================================================\n",
            "Total params: 4,356\n",
            "Trainable params: 4,353\n",
            "Non-trainable params: 3\n",
            "_________________________________________________________________\n"
          ]
        }
      ]
    },
    {
      "cell_type": "code",
      "source": [
        "%%time\n",
        "history = dnn_income_model.fit(\n",
        "    train_features['incomeUSD'], train_labels,\n",
        "    validation_split=0.2,\n",
        "    verbose=1, epochs=10)"
      ],
      "metadata": {
        "colab": {
          "base_uri": "https://localhost:8080/"
        },
        "id": "XEMXMCq91ZiW",
        "outputId": "438d2a8a-d9d4-4498-bd11-87f8edd4df16"
      },
      "execution_count": 20,
      "outputs": [
        {
          "output_type": "stream",
          "name": "stdout",
          "text": [
            "Epoch 1/10\n",
            "814/814 [==============================] - 2s 2ms/step - loss: 2.5214 - val_loss: 1.8482\n",
            "Epoch 2/10\n",
            "814/814 [==============================] - 2s 2ms/step - loss: 1.8238 - val_loss: 1.8621\n",
            "Epoch 3/10\n",
            "814/814 [==============================] - 2s 2ms/step - loss: 1.8199 - val_loss: 1.8375\n",
            "Epoch 4/10\n",
            "814/814 [==============================] - 2s 2ms/step - loss: 1.8180 - val_loss: 1.8353\n",
            "Epoch 5/10\n",
            "814/814 [==============================] - 2s 2ms/step - loss: 1.8195 - val_loss: 1.8208\n",
            "Epoch 6/10\n",
            "814/814 [==============================] - 2s 2ms/step - loss: 1.8168 - val_loss: 1.8233\n",
            "Epoch 7/10\n",
            "814/814 [==============================] - 2s 2ms/step - loss: 1.8109 - val_loss: 1.8211\n",
            "Epoch 8/10\n",
            "814/814 [==============================] - 2s 2ms/step - loss: 1.8125 - val_loss: 1.8188\n",
            "Epoch 9/10\n",
            "814/814 [==============================] - 2s 2ms/step - loss: 1.8087 - val_loss: 1.8142\n",
            "Epoch 10/10\n",
            "814/814 [==============================] - 2s 2ms/step - loss: 1.8082 - val_loss: 1.8171\n",
            "CPU times: user 19.7 s, sys: 1.43 s, total: 21.2 s\n",
            "Wall time: 20.9 s\n"
          ]
        }
      ]
    },
    {
      "cell_type": "code",
      "source": [
        "x = tf.linspace(0.0, 250, 251)\n",
        "y = dnn_income_model.predict(x)\n",
        "\n",
        "def plot_income(x, y):\n",
        "  plt.scatter(train_features['incomeUSD'], train_labels, label='Data')\n",
        "  plt.plot(x, y, color='k', label='Predictions')\n",
        "  plt.xlabel('incomeUSD')\n",
        "  plt.ylabel('educationyears')\n",
        "  plt.legend()\n",
        "plot_income(x, y) "
      ],
      "metadata": {
        "colab": {
          "base_uri": "https://localhost:8080/",
          "height": 279
        },
        "id": "vPD81oh426Gm",
        "outputId": "9b9e0eb9-b957-4422-df95-eaab73467b30"
      },
      "execution_count": 31,
      "outputs": [
        {
          "output_type": "display_data",
          "data": {
            "text/plain": [
              "<Figure size 432x288 with 1 Axes>"
            ],
            "image/png": "[encoded data removed]"
          },
          "metadata": {
            "needs_background": "light"
          }
        }
      ]
    },
    {
      "cell_type": "code",
      "source": [
        "test_results = {}\n",
        "\n",
        "test_results['dnn_income_model'] = dnn_income_model.evaluate(\n",
        "    test_features['incomeUSD'],\n",
        "    test_labels, verbose=0)"
      ],
      "metadata": {
        "id": "58SmGqtB4ZRn"
      },
      "execution_count": 23,
      "outputs": []
    },
    {
      "cell_type": "code",
      "source": [
        "test_results['dnn_income_model'] = dnn_income_model.evaluate(\n",
        "    test_features['incomeUSD'], test_labels,\n",
        "    verbose=0)"
      ],
      "metadata": {
        "id": "Euie69OV1r0y"
      },
      "execution_count": 24,
      "outputs": []
    },
    {
      "cell_type": "code",
      "source": [
        "dnn_model = build_and_compile_model(normalizer)\n",
        "dnn_model.summary()"
      ],
      "metadata": {
        "colab": {
          "base_uri": "https://localhost:8080/"
        },
        "id": "ngeTDeJj1htV",
        "outputId": "4472f044-8d1c-4004-a0e7-ec08fd1dd2c8"
      },
      "execution_count": 25,
      "outputs": [
        {
          "output_type": "stream",
          "name": "stdout",
          "text": [
            "Model: \"sequential_2\"\n",
            "_________________________________________________________________\n",
            " Layer (type)                Output Shape              Param #   \n",
            "=================================================================\n",
            " normalization_1 (Normalizat  (None, 8)                17        \n",
            " ion)                                                            \n",
            "                                                                 \n",
            " dense_6 (Dense)             (None, 64)                576       \n",
            "                                                                 \n",
            " dense_7 (Dense)             (None, 64)                4160      \n",
            "                                                                 \n",
            " dense_8 (Dense)             (None, 1)                 65        \n",
            "                                                                 \n",
            "=================================================================\n",
            "Total params: 4,818\n",
            "Trainable params: 4,801\n",
            "Non-trainable params: 17\n",
            "_________________________________________________________________\n"
          ]
        }
      ]
    },
    {
      "cell_type": "code",
      "source": [
        "%%time\n",
        "history = dnn_model.fit(\n",
        "    train_features, train_labels,\n",
        "    validation_split=0.2,\n",
        "    verbose=1, epochs=10)"
      ],
      "metadata": {
        "colab": {
          "base_uri": "https://localhost:8080/"
        },
        "id": "tQ-ArTpg1rV2",
        "outputId": "83193b0d-f2cd-4a22-e928-381cbd1fa09f"
      },
      "execution_count": 26,
      "outputs": [
        {
          "output_type": "stream",
          "name": "stdout",
          "text": [
            "Epoch 1/10\n",
            "814/814 [==============================] - 3s 3ms/step - loss: 2.4413 - val_loss: 1.8284\n",
            "Epoch 2/10\n",
            "814/814 [==============================] - 2s 2ms/step - loss: 1.8121 - val_loss: 1.8158\n",
            "Epoch 3/10\n",
            "814/814 [==============================] - 2s 2ms/step - loss: 1.8019 - val_loss: 1.8174\n",
            "Epoch 4/10\n",
            "814/814 [==============================] - 2s 2ms/step - loss: 1.7961 - val_loss: 1.8066\n",
            "Epoch 5/10\n",
            "814/814 [==============================] - 3s 3ms/step - loss: 1.7897 - val_loss: 1.8077\n",
            "Epoch 6/10\n",
            "814/814 [==============================] - 3s 4ms/step - loss: 1.7868 - val_loss: 1.7971\n",
            "Epoch 7/10\n",
            "814/814 [==============================] - 2s 2ms/step - loss: 1.7821 - val_loss: 1.8069\n",
            "Epoch 8/10\n",
            "814/814 [==============================] - 2s 2ms/step - loss: 1.7789 - val_loss: 1.7923\n",
            "Epoch 9/10\n",
            "814/814 [==============================] - 2s 2ms/step - loss: 1.7777 - val_loss: 1.7949\n",
            "Epoch 10/10\n",
            "814/814 [==============================] - 2s 2ms/step - loss: 1.7697 - val_loss: 1.8170\n",
            "CPU times: user 21.6 s, sys: 1.58 s, total: 23.2 s\n",
            "Wall time: 41.4 s\n"
          ]
        }
      ]
    },
    {
      "cell_type": "code",
      "source": [
        "test_predictions = dnn_model.predict(test_features).flatten()\n",
        "\n",
        "a = plt.axes(aspect='equal')\n",
        "plt.scatter(test_labels, test_predictions)\n",
        "plt.xlabel('True Values [educationyears]')\n",
        "plt.ylabel('Predictions [educationyears]')\n",
        "lims = [0, 50]\n",
        "plt.xlim(lims)\n",
        "plt.ylim(lims)\n",
        "_ = plt.plot(lims, lims)"
      ],
      "metadata": {
        "colab": {
          "base_uri": "https://localhost:8080/",
          "height": 283
        },
        "id": "g2l6dLkF2Ttd",
        "outputId": "b96574bb-a762-44f0-aeaa-fbc906543cff"
      },
      "execution_count": 27,
      "outputs": [
        {
          "output_type": "display_data",
          "data": {
            "text/plain": [
              "<Figure size 432x288 with 1 Axes>"
            ],
            "image/png": "[encoded data removed]"
          },
          "metadata": {
            "needs_background": "light"
          }
        }
      ]
    },
    {
      "cell_type": "code",
      "source": [
        "test_predictions = dnn_model.predict(test_features).flatten()"
      ],
      "metadata": {
        "id": "m79tE9CW2Wnh"
      },
      "execution_count": 28,
      "outputs": []
    },
    {
      "cell_type": "code",
      "source": [
        "test_results['dnn_model'] = dnn_model.evaluate(test_features, test_labels, verbose=0)"
      ],
      "metadata": {
        "id": "h7DTf0CD2ZKN"
      },
      "execution_count": 29,
      "outputs": []
    },
    {
      "cell_type": "code",
      "source": [
        "pd.DataFrame(test_results, index=['Mean absolute error [educationyears]']).T"
      ],
      "metadata": {
        "colab": {
          "base_uri": "https://localhost:8080/",
          "height": 111
        },
        "id": "xirquDfXjIVs",
        "outputId": "ad9697c7-821d-45e9-cb71-fca5b72e2128"
      },
      "execution_count": 30,
      "outputs": [
        {
          "output_type": "execute_result",
          "data": {
            "text/plain": [
              "                  Mean absolute error [educationyears]\n",
              "dnn_income_model                              1.793391\n",
              "dnn_model                                     1.785616"
            ],
            "text/html": [
              "\n",
              "  <div id=\"df-62a8a40b-8e2d-4a16-8de4-840a38a35bf0\">\n",
              "    <div class=\"colab-df-container\">\n",
              "      <div>\n",
              "<style scoped>\n",
              "    .dataframe tbody tr th:only-of-type {\n",
              "        vertical-align: middle;\n",
              "    }\n",
              "\n",
              "    .dataframe tbody tr th {\n",
              "        vertical-align: top;\n",
              "    }\n",
              "\n",
              "    .dataframe thead th {\n",
              "        text-align: right;\n",
              "    }\n",
              "</style>\n",
              "<table border=\"1\" class=\"dataframe\">\n",
              "  <thead>\n",
              "    <tr style=\"text-align: right;\">\n",
              "      <th></th>\n",
              "      <th>Mean absolute error [educationyears]</th>\n",
              "    </tr>\n",
              "  </thead>\n",
              "  <tbody>\n",
              "    <tr>\n",
              "      <th>dnn_income_model</th>\n",
              "      <td>1.793391</td>\n",
              "    </tr>\n",
              "    <tr>\n",
              "      <th>dnn_model</th>\n",
              "      <td>1.785616</td>\n",
              "    </tr>\n",
              "  </tbody>\n",
              "</table>\n",
              "</div>\n",
              "      <button class=\"colab-df-convert\" onclick=\"convertToInteractive('df-62a8a40b-8e2d-4a16-8de4-840a38a35bf0')\"\n",
              "              title=\"Convert this dataframe to an interactive table.\"\n",
              "              style=\"display:none;\">\n",
              "        \n",
              "  <svg xmlns=\"http://www.w3.org/2000/svg\" height=\"24px\"viewBox=\"0 0 24 24\"\n",
              "       width=\"24px\">\n",
              "    <path d=\"M0 0h24v24H0V0z\" fill=\"none\"/>\n",
              "    <path d=\"M18.56 5.44l.94 2.06.94-2.06 2.06-.94-2.06-.94-.94-2.06-.94 2.06-2.06.94zm-11 1L8.5 8.5l.94-2.06 2.06-.94-2.06-.94L8.5 2.5l-.94 2.06-2.06.94zm10 10l.94 2.06.94-2.06 2.06-.94-2.06-.94-.94-2.06-.94 2.06-2.06.94z\"/><path d=\"M17.41 7.96l-1.37-1.37c-.4-.4-.92-.59-1.43-.59-.52 0-1.04.2-1.43.59L10.3 9.45l-7.72 7.72c-.78.78-.78 2.05 0 2.83L4 21.41c.39.39.9.59 1.41.59.51 0 1.02-.2 1.41-.59l7.78-7.78 2.81-2.81c.8-.78.8-2.07 0-2.86zM5.41 20L4 18.59l7.72-7.72 1.47 1.35L5.41 20z\"/>\n",
              "  </svg>\n",
              "      </button>\n",
              "      \n",
              "  <style>\n",
              "    .colab-df-container {\n",
              "      display:flex;\n",
              "      flex-wrap:wrap;\n",
              "      gap: 12px;\n",
              "    }\n",
              "\n",
              "    .colab-df-convert {\n",
              "      background-color: #E8F0FE;\n",
              "      border: none;\n",
              "      border-radius: 50%;\n",
              "      cursor: pointer;\n",
              "      display: none;\n",
              "      fill: #1967D2;\n",
              "      height: 32px;\n",
              "      padding: 0 0 0 0;\n",
              "      width: 32px;\n",
              "    }\n",
              "\n",
              "    .colab-df-convert:hover {\n",
              "      background-color: #E2EBFA;\n",
              "      box-shadow: 0px 1px 2px rgba(60, 64, 67, 0.3), 0px 1px 3px 1px rgba(60, 64, 67, 0.15);\n",
              "      fill: #174EA6;\n",
              "    }\n",
              "\n",
              "    [theme=dark] .colab-df-convert {\n",
              "      background-color: #3B4455;\n",
              "      fill: #D2E3FC;\n",
              "    }\n",
              "\n",
              "    [theme=dark] .colab-df-convert:hover {\n",
              "      background-color: #434B5C;\n",
              "      box-shadow: 0px 1px 3px 1px rgba(0, 0, 0, 0.15);\n",
              "      filter: drop-shadow(0px 1px 2px rgba(0, 0, 0, 0.3));\n",
              "      fill: #FFFFFF;\n",
              "    }\n",
              "  </style>\n",
              "\n",
              "      <script>\n",
              "        const buttonEl =\n",
              "          document.querySelector('#df-62a8a40b-8e2d-4a16-8de4-840a38a35bf0 button.colab-df-convert');\n",
              "        buttonEl.style.display =\n",
              "          google.colab.kernel.accessAllowed ? 'block' : 'none';\n",
              "\n",
              "        async function convertToInteractive(key) {\n",
              "          const element = document.querySelector('#df-62a8a40b-8e2d-4a16-8de4-840a38a35bf0');\n",
              "          const dataTable =\n",
              "            await google.colab.kernel.invokeFunction('convertToInteractive',\n",
              "                                                     [key], {});\n",
              "          if (!dataTable) return;\n",
              "\n",
              "          const docLinkHtml = 'Like what you see? Visit the ' +\n",
              "            '<a target=\"_blank\" href=https://colab.research.google.com/notebooks/data_table.ipynb>data table notebook</a>'\n",
              "            + ' to learn more about interactive tables.';\n",
              "          element.innerHTML = '';\n",
              "          dataTable['output_type'] = 'display_data';\n",
              "          await google.colab.output.renderOutput(dataTable, element);\n",
              "          const docLink = document.createElement('div');\n",
              "          docLink.innerHTML = docLinkHtml;\n",
              "          element.appendChild(docLink);\n",
              "        }\n",
              "      </script>\n",
              "    </div>\n",
              "  </div>\n",
              "  "
            ]
          },
          "metadata": {},
          "execution_count": 30
        }
      ]
    },
    {
      "cell_type": "markdown",
      "source": [
        "# Question 7"
      ],
      "metadata": {
        "id": "BjI-Fj1MlOUo"
      }
    },
    {
      "cell_type": "markdown",
      "source": [
        "My two models have a very low mean absolute error and are nearly identical. The dnn_model is slightly better with an error of .02 less, which is marginally indifferent. Since both models have very low mean absolute errors there are very good a predicting and either model would be a great model for predicting. "
      ],
      "metadata": {
        "id": "sV8Z8j0FlQ78"
      }
    }
  ]
}